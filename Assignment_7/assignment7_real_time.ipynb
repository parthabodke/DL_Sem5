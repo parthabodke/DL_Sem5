{
 "cells": [
  {
   "cell_type": "code",
   "execution_count": 2,
   "id": "b83ad887",
   "metadata": {},
   "outputs": [
    {
     "name": "stdout",
     "output_type": "stream",
     "text": [
      "\n",
      "0: 448x640 4 persons, 1 tennis racket, 293.9ms\n",
      "Speed: 12.1ms preprocess, 293.9ms inference, 3.4ms postprocess per image at shape (1, 3, 448, 640)\n"
     ]
    }
   ],
   "source": [
    "import cv2\n",
    "from ultralytics import YOLO\n",
    "\n",
    "# Load a pretrained YOLOv8 model (yolov8n = nano version, faster)\n",
    "model = YOLO(\"yolov8n.pt\")  # You can also use yolov8s.pt, yolov8m.pt, etc.\n",
    "\n",
    "# Load an image\n",
    "image_path = \"test.jpg\"  # Replace with your image path\n",
    "img = cv2.imread(image_path)\n",
    "\n",
    "# Run detection\n",
    "results = model.predict(source=img, save=False, conf=0.5)\n",
    "\n",
    "# Draw boxes on the image\n",
    "annotated_img = results[0].plot()\n",
    "\n",
    "# Show image locally\n",
    "cv2.imshow(\"YOLO Detection\", annotated_img)\n",
    "cv2.waitKey(0)\n",
    "cv2.destroyAllWindows()\n"
   ]
  },
  {
   "cell_type": "code",
   "execution_count": null,
   "id": "808ad13c",
   "metadata": {},
   "outputs": [],
   "source": []
  }
 ],
 "metadata": {
  "kernelspec": {
   "display_name": "venv",
   "language": "python",
   "name": "python3"
  },
  "language_info": {
   "codemirror_mode": {
    "name": "ipython",
    "version": 3
   },
   "file_extension": ".py",
   "mimetype": "text/x-python",
   "name": "python",
   "nbconvert_exporter": "python",
   "pygments_lexer": "ipython3",
   "version": "3.11.4"
  }
 },
 "nbformat": 4,
 "nbformat_minor": 5
}
