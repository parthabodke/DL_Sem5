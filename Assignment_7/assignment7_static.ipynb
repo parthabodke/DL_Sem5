{
 "cells": [
  {
   "cell_type": "code",
   "execution_count": null,
   "id": "0be85f2e",
   "metadata": {},
   "outputs": [],
   "source": [
    "import cv2\n",
    "from ultralytics import YOLO\n",
    "\n",
    "# Load a pretrained YOLOv8 model (yolov8n = nano version, faster)\n",
    "model = YOLO(\"yolov8n.pt\")  # You can also use yolov8s.pt, yolov8m.pt, etc.\n",
    "\n",
    "# Load an image\n",
    "image_path = \"test.jpg\"  # Replace with your image path\n",
    "img = cv2.imread(image_path)\n",
    "\n",
    "# Run detection\n",
    "results = model.predict(source=img, save=False, conf=0.5)\n",
    "\n",
    "# Draw boxes on the image\n",
    "annotated_img = results[0].plot()\n",
    "\n",
    "# Show image locally\n",
    "cv2.imshow(\"YOLO Detection\", annotated_img)\n",
    "cv2.waitKey(0)\n",
    "cv2.destroyAllWindows()\n"
   ]
  }
 ],
 "metadata": {
  "language_info": {
   "name": "python"
  }
 },
 "nbformat": 4,
 "nbformat_minor": 5
}
